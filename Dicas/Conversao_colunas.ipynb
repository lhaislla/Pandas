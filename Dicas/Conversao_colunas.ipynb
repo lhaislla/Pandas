{
 "cells": [
  {
   "cell_type": "markdown",
   "metadata": {},
   "source": [
    "# Conversão e Formatação de colunas no Pandas"
   ]
  },
  {
   "cell_type": "code",
   "execution_count": 1,
   "metadata": {},
   "outputs": [],
   "source": [
    "import pandas as pd"
   ]
  },
  {
   "cell_type": "markdown",
   "metadata": {},
   "source": [
    "Link para o conjunto de dados: http://www.dados.gov.br/dataset/precos-de-medicamentos-governo"
   ]
  },
  {
   "cell_type": "code",
   "execution_count": 2,
   "metadata": {},
   "outputs": [],
   "source": [
    "FILE_PATH = '../Data/TA_PRECO_MEDICAMENTO_GOV.csv'"
   ]
  },
  {
   "cell_type": "code",
   "execution_count": 4,
   "metadata": {},
   "outputs": [
    {
     "name": "stderr",
     "output_type": "stream",
     "text": [
      "/tmp/ipykernel_34628/2628031953.py:1: DtypeWarning: Columns (4) have mixed types. Specify dtype option on import or set low_memory=False.\n",
      "  meds = pd.read_csv(FILE_PATH, encoding=\"ISO-8859-1\", sep=';')\n"
     ]
    }
   ],
   "source": [
    "meds = pd.read_csv(FILE_PATH, encoding=\"ISO-8859-1\", sep=';')"
   ]
  },
  {
   "cell_type": "code",
   "execution_count": 7,
   "metadata": {},
   "outputs": [
    {
     "data": {
      "text/html": [
       "<div>\n",
       "<style scoped>\n",
       "    .dataframe tbody tr th:only-of-type {\n",
       "        vertical-align: middle;\n",
       "    }\n",
       "\n",
       "    .dataframe tbody tr th {\n",
       "        vertical-align: top;\n",
       "    }\n",
       "\n",
       "    .dataframe thead th {\n",
       "        text-align: right;\n",
       "    }\n",
       "</style>\n",
       "<table border=\"1\" class=\"dataframe\">\n",
       "  <thead>\n",
       "    <tr style=\"text-align: right;\">\n",
       "      <th></th>\n",
       "      <th>PRINCÍPIO ATIVO</th>\n",
       "      <th>CNPJ</th>\n",
       "      <th>LABORATÓRIO</th>\n",
       "      <th>CÓDIGO GGREM</th>\n",
       "      <th>REGISTRO</th>\n",
       "      <th>EAN 1</th>\n",
       "      <th>EAN 2</th>\n",
       "      <th>EAN 3</th>\n",
       "      <th>PRODUTO</th>\n",
       "      <th>APRESENTAÇÃO</th>\n",
       "      <th>...</th>\n",
       "      <th>TARJA</th>\n",
       "      <th>Unnamed: 41</th>\n",
       "      <th>Unnamed: 42</th>\n",
       "      <th>Unnamed: 43</th>\n",
       "      <th>Unnamed: 44</th>\n",
       "      <th>Unnamed: 45</th>\n",
       "      <th>Unnamed: 46</th>\n",
       "      <th>Unnamed: 47</th>\n",
       "      <th>Unnamed: 48</th>\n",
       "      <th>Unnamed: 49</th>\n",
       "    </tr>\n",
       "  </thead>\n",
       "  <tbody>\n",
       "    <tr>\n",
       "      <th>0</th>\n",
       "      <td>ABATACEPTE</td>\n",
       "      <td>56.998.982/0001-07</td>\n",
       "      <td>BRISTOL-MYERS SQUIBB FARMACÊUTICA LTDA</td>\n",
       "      <td>505107701157215</td>\n",
       "      <td>1018003900019</td>\n",
       "      <td>7.896017e+12</td>\n",
       "      <td>NaN</td>\n",
       "      <td>NaN</td>\n",
       "      <td>ORENCIA</td>\n",
       "      <td>250 MG PO LIOF INJ CT FA + SER DESC</td>\n",
       "      <td>...</td>\n",
       "      <td>Venda Livre</td>\n",
       "      <td>NaN</td>\n",
       "      <td>NaN</td>\n",
       "      <td>NaN</td>\n",
       "      <td>NaN</td>\n",
       "      <td>NaN</td>\n",
       "      <td>NaN</td>\n",
       "      <td>NaN</td>\n",
       "      <td>NaN</td>\n",
       "      <td>NaN</td>\n",
       "    </tr>\n",
       "    <tr>\n",
       "      <th>1</th>\n",
       "      <td>ABATACEPTE</td>\n",
       "      <td>56.998.982/0001-07</td>\n",
       "      <td>BRISTOL-MYERS SQUIBB FARMACÊUTICA LTDA</td>\n",
       "      <td>505113030019605</td>\n",
       "      <td>1018003900027</td>\n",
       "      <td>7.896017e+12</td>\n",
       "      <td>NaN</td>\n",
       "      <td>NaN</td>\n",
       "      <td>ORENCIA</td>\n",
       "      <td>125 MG/ML SOL INJ CT 1 SER PREENCHIDA</td>\n",
       "      <td>...</td>\n",
       "      <td>Venda Livre</td>\n",
       "      <td>NaN</td>\n",
       "      <td>NaN</td>\n",
       "      <td>NaN</td>\n",
       "      <td>NaN</td>\n",
       "      <td>NaN</td>\n",
       "      <td>NaN</td>\n",
       "      <td>NaN</td>\n",
       "      <td>NaN</td>\n",
       "      <td>NaN</td>\n",
       "    </tr>\n",
       "    <tr>\n",
       "      <th>2</th>\n",
       "      <td>ABATACEPTE</td>\n",
       "      <td>56.998.982/0001-07</td>\n",
       "      <td>BRISTOL-MYERS SQUIBB FARMACÊUTICA LTDA</td>\n",
       "      <td>505113030019705</td>\n",
       "      <td>1018003900035</td>\n",
       "      <td>7.896017e+12</td>\n",
       "      <td>NaN</td>\n",
       "      <td>NaN</td>\n",
       "      <td>ORENCIA</td>\n",
       "      <td>125 MG/ML SOL INJ CT 4 SER PREENCHIDA</td>\n",
       "      <td>...</td>\n",
       "      <td>Venda Livre</td>\n",
       "      <td>NaN</td>\n",
       "      <td>NaN</td>\n",
       "      <td>NaN</td>\n",
       "      <td>NaN</td>\n",
       "      <td>NaN</td>\n",
       "      <td>NaN</td>\n",
       "      <td>NaN</td>\n",
       "      <td>NaN</td>\n",
       "      <td>NaN</td>\n",
       "    </tr>\n",
       "    <tr>\n",
       "      <th>3</th>\n",
       "      <td>ABATACEPTE</td>\n",
       "      <td>56.998.982/0001-07</td>\n",
       "      <td>BRISTOL-MYERS SQUIBB FARMACÊUTICA LTDA</td>\n",
       "      <td>505113030019805</td>\n",
       "      <td>1018003900043</td>\n",
       "      <td>7.896017e+12</td>\n",
       "      <td>NaN</td>\n",
       "      <td>NaN</td>\n",
       "      <td>ORENCIA</td>\n",
       "      <td>125 MG/ML SOL INJ CT 1 SER PREENCHIDA + DISPOS...</td>\n",
       "      <td>...</td>\n",
       "      <td>Venda Livre</td>\n",
       "      <td>NaN</td>\n",
       "      <td>NaN</td>\n",
       "      <td>NaN</td>\n",
       "      <td>NaN</td>\n",
       "      <td>NaN</td>\n",
       "      <td>NaN</td>\n",
       "      <td>NaN</td>\n",
       "      <td>NaN</td>\n",
       "      <td>NaN</td>\n",
       "    </tr>\n",
       "    <tr>\n",
       "      <th>4</th>\n",
       "      <td>ABATACEPTE</td>\n",
       "      <td>56.998.982/0001-07</td>\n",
       "      <td>BRISTOL-MYERS SQUIBB FARMACÊUTICA LTDA</td>\n",
       "      <td>505113030019905</td>\n",
       "      <td>1018003900051</td>\n",
       "      <td>7.896017e+12</td>\n",
       "      <td>NaN</td>\n",
       "      <td>NaN</td>\n",
       "      <td>ORENCIA</td>\n",
       "      <td>125 MG/ML SOL INJ CT 4 SER PREENCHIDA + DISPOS...</td>\n",
       "      <td>...</td>\n",
       "      <td>Venda Livre</td>\n",
       "      <td>NaN</td>\n",
       "      <td>NaN</td>\n",
       "      <td>NaN</td>\n",
       "      <td>NaN</td>\n",
       "      <td>NaN</td>\n",
       "      <td>NaN</td>\n",
       "      <td>NaN</td>\n",
       "      <td>NaN</td>\n",
       "      <td>NaN</td>\n",
       "    </tr>\n",
       "  </tbody>\n",
       "</table>\n",
       "<p>5 rows × 50 columns</p>\n",
       "</div>"
      ],
      "text/plain": [
       "  PRINCÍPIO ATIVO                CNPJ                             LABORATÓRIO  \\\n",
       "0      ABATACEPTE  56.998.982/0001-07  BRISTOL-MYERS SQUIBB FARMACÊUTICA LTDA   \n",
       "1      ABATACEPTE  56.998.982/0001-07  BRISTOL-MYERS SQUIBB FARMACÊUTICA LTDA   \n",
       "2      ABATACEPTE  56.998.982/0001-07  BRISTOL-MYERS SQUIBB FARMACÊUTICA LTDA   \n",
       "3      ABATACEPTE  56.998.982/0001-07  BRISTOL-MYERS SQUIBB FARMACÊUTICA LTDA   \n",
       "4      ABATACEPTE  56.998.982/0001-07  BRISTOL-MYERS SQUIBB FARMACÊUTICA LTDA   \n",
       "\n",
       "      CÓDIGO GGREM       REGISTRO         EAN 1  EAN 2  EAN 3  PRODUTO  \\\n",
       "0  505107701157215  1018003900019  7.896017e+12    NaN    NaN  ORENCIA   \n",
       "1  505113030019605  1018003900027  7.896017e+12    NaN    NaN  ORENCIA   \n",
       "2  505113030019705  1018003900035  7.896017e+12    NaN    NaN  ORENCIA   \n",
       "3  505113030019805  1018003900043  7.896017e+12    NaN    NaN  ORENCIA   \n",
       "4  505113030019905  1018003900051  7.896017e+12    NaN    NaN  ORENCIA   \n",
       "\n",
       "                                        APRESENTAÇÃO  ...        TARJA  \\\n",
       "0                250 MG PO LIOF INJ CT FA + SER DESC  ...  Venda Livre   \n",
       "1              125 MG/ML SOL INJ CT 1 SER PREENCHIDA  ...  Venda Livre   \n",
       "2              125 MG/ML SOL INJ CT 4 SER PREENCHIDA  ...  Venda Livre   \n",
       "3  125 MG/ML SOL INJ CT 1 SER PREENCHIDA + DISPOS...  ...  Venda Livre   \n",
       "4  125 MG/ML SOL INJ CT 4 SER PREENCHIDA + DISPOS...  ...  Venda Livre   \n",
       "\n",
       "  Unnamed: 41 Unnamed: 42 Unnamed: 43 Unnamed: 44 Unnamed: 45 Unnamed: 46  \\\n",
       "0         NaN         NaN         NaN         NaN         NaN         NaN   \n",
       "1         NaN         NaN         NaN         NaN         NaN         NaN   \n",
       "2         NaN         NaN         NaN         NaN         NaN         NaN   \n",
       "3         NaN         NaN         NaN         NaN         NaN         NaN   \n",
       "4         NaN         NaN         NaN         NaN         NaN         NaN   \n",
       "\n",
       "  Unnamed: 47 Unnamed: 48 Unnamed: 49  \n",
       "0         NaN         NaN         NaN  \n",
       "1         NaN         NaN         NaN  \n",
       "2         NaN         NaN         NaN  \n",
       "3         NaN         NaN         NaN  \n",
       "4         NaN         NaN         NaN  \n",
       "\n",
       "[5 rows x 50 columns]"
      ]
     },
     "execution_count": 7,
     "metadata": {},
     "output_type": "execute_result"
    }
   ],
   "source": [
    "meds.head()"
   ]
  },
  {
   "cell_type": "code",
   "execution_count": 8,
   "metadata": {},
   "outputs": [
    {
     "name": "stdout",
     "output_type": "stream",
     "text": [
      "<class 'pandas.core.frame.DataFrame'>\n",
      "RangeIndex: 25681 entries, 0 to 25680\n",
      "Data columns (total 50 columns):\n",
      "PRINCÍPIO ATIVO                                          25681 non-null object\n",
      "CNPJ                                                     25681 non-null object\n",
      "LABORATÓRIO                                              25681 non-null object\n",
      "CÓDIGO GGREM                                             25681 non-null int64\n",
      "REGISTRO                                                 25681 non-null object\n",
      "EAN 1                                                    25679 non-null float64\n",
      "EAN 2                                                    162 non-null float64\n",
      "EAN 3                                                    0 non-null float64\n",
      "PRODUTO                                                  25681 non-null object\n",
      "APRESENTAÇÃO                                             25681 non-null object\n",
      "CLASSE TERAPÊUTICA                                       25681 non-null object\n",
      "TIPO DE PRODUTO (STATUS DO PRODUTO)                      25681 non-null object\n",
      "REGIME DE PREÇO                                          25681 non-null object\n",
      "PF Sem Impostos                                          25681 non-null object\n",
      "PF 0%                                                    25681 non-null object\n",
      "PF 12%                                                   24751 non-null object\n",
      "PF 17%                                                   24751 non-null object\n",
      "PF 17% ALC                                               24751 non-null object\n",
      "PF 17,5%                                                 24751 non-null object\n",
      "PF 17,5% ALC                                             24751 non-null object\n",
      "PF 18%                                                   24751 non-null object\n",
      "PF 18% ALC                                               24751 non-null object\n",
      "PF 20%                                                   24751 non-null object\n",
      "PMVG Sem Impostos                                        25681 non-null object\n",
      "PMVG 0%                                                  25681 non-null object\n",
      "PMVG 12%                                                 22188 non-null object\n",
      "PMVG 17%                                                 22188 non-null object\n",
      "PMVG 17% ALC                                             22188 non-null object\n",
      "PMVG 17,5%                                               22188 non-null object\n",
      "PMVG 17,5% ALC                                           22188 non-null object\n",
      "PMVG 18%                                                 22188 non-null object\n",
      "PMVG 18% ALC                                             22188 non-null object\n",
      "PMVG 20%                                                 22188 non-null object\n",
      "RESTRIÇÃO HOSPITALAR                                     25681 non-null object\n",
      "CAP                                                      25681 non-null object\n",
      "CONFAZ 87                                                25681 non-null object\n",
      "ICMS 0%                                                  25681 non-null object\n",
      "ANÁLISE RECURSAL                                         4 non-null object\n",
      "LISTA DE CONCESSÃO DE CRÉDITO TRIBUTÁRIO (PIS/COFINS)    25681 non-null object\n",
      "COMERCIALIZAÇÃO 2018                                     25681 non-null object\n",
      "TARJA                                                    25681 non-null object\n",
      "Unnamed: 41                                              0 non-null float64\n",
      "Unnamed: 42                                              0 non-null float64\n",
      "Unnamed: 43                                              0 non-null float64\n",
      "Unnamed: 44                                              0 non-null float64\n",
      "Unnamed: 45                                              0 non-null float64\n",
      "Unnamed: 46                                              0 non-null float64\n",
      "Unnamed: 47                                              0 non-null float64\n",
      "Unnamed: 48                                              0 non-null float64\n",
      "Unnamed: 49                                              0 non-null float64\n",
      "dtypes: float64(12), int64(1), object(37)\n",
      "memory usage: 9.8+ MB\n"
     ]
    }
   ],
   "source": [
    "meds.info()"
   ]
  },
  {
   "cell_type": "code",
   "execution_count": 9,
   "metadata": {},
   "outputs": [],
   "source": [
    "# meds['PF Sem Impostos'].mean()"
   ]
  },
  {
   "cell_type": "code",
   "execution_count": 10,
   "metadata": {},
   "outputs": [],
   "source": [
    "meds['PF Sem Impostos'] = meds['PF Sem Impostos'].apply(lambda x: str(x).replace(\",\",\".\"))"
   ]
  },
  {
   "cell_type": "code",
   "execution_count": 11,
   "metadata": {},
   "outputs": [
    {
     "data": {
      "text/plain": [
       "0        1499.04\n",
       "1        1190.06\n",
       "2        4760.29\n",
       "3        1190.06\n",
       "4        4760.29\n",
       "          ...   \n",
       "25676      34.25\n",
       "25677      25.26\n",
       "25678      55.24\n",
       "25679       25.4\n",
       "25680      50.68\n",
       "Name: PF Sem Impostos, Length: 25681, dtype: object"
      ]
     },
     "execution_count": 11,
     "metadata": {},
     "output_type": "execute_result"
    }
   ],
   "source": [
    "meds['PF Sem Impostos']"
   ]
  },
  {
   "cell_type": "code",
   "execution_count": 12,
   "metadata": {},
   "outputs": [],
   "source": [
    "meds['PF Sem Impostos'] = meds['PF Sem Impostos'].astype('float64')"
   ]
  },
  {
   "cell_type": "code",
   "execution_count": 13,
   "metadata": {},
   "outputs": [
    {
     "data": {
      "text/plain": [
       "0        1499.04\n",
       "1        1190.06\n",
       "2        4760.29\n",
       "3        1190.06\n",
       "4        4760.29\n",
       "          ...   \n",
       "25676      34.25\n",
       "25677      25.26\n",
       "25678      55.24\n",
       "25679      25.40\n",
       "25680      50.68\n",
       "Name: PF Sem Impostos, Length: 25681, dtype: float64"
      ]
     },
     "execution_count": 13,
     "metadata": {},
     "output_type": "execute_result"
    }
   ],
   "source": [
    "meds['PF Sem Impostos']"
   ]
  },
  {
   "cell_type": "code",
   "execution_count": 14,
   "metadata": {},
   "outputs": [
    {
     "data": {
      "text/plain": [
       "667.681292784549"
      ]
     },
     "execution_count": 14,
     "metadata": {},
     "output_type": "execute_result"
    }
   ],
   "source": [
    "meds['PF Sem Impostos'].mean()"
   ]
  },
  {
   "cell_type": "code",
   "execution_count": 16,
   "metadata": {},
   "outputs": [
    {
     "data": {
      "text/plain": [
       "<matplotlib.axes._subplots.AxesSubplot at 0x116035a10>"
      ]
     },
     "execution_count": 16,
     "metadata": {},
     "output_type": "execute_result"
    },
    {
     "data": {
      "image/png": "[encoded data removed]",
      "text/plain": [
       "<Figure size 432x288 with 1 Axes>"
      ]
     },
     "metadata": {
      "needs_background": "light"
     },
     "output_type": "display_data"
    }
   ],
   "source": [
    "meds['PF Sem Impostos'].plot()"
   ]
  },
  {
   "cell_type": "code",
   "execution_count": null,
   "metadata": {},
   "outputs": [],
   "source": []
  }
 ],
 "metadata": {
  "kernelspec": {
   "display_name": "Python 3.10.6 64-bit",
   "language": "python",
   "name": "python3"
  },
  "language_info": {
   "codemirror_mode": {
    "name": "ipython",
    "version": 3
   },
   "file_extension": ".py",
   "mimetype": "text/x-python",
   "name": "python",
   "nbconvert_exporter": "python",
   "pygments_lexer": "ipython3",
   "version": "3.10.6"
  },
  "vscode": {
   "interpreter": {
    "hash": "916dbcbb3f70747c44a77c7bcd40155683ae19c65e1c03b4aa3499c5328201f1"
   }
  }
 },
 "nbformat": 4,
 "nbformat_minor": 4
}
